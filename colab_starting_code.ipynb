{
  "cells": [
    {
      "cell_type": "markdown",
      "metadata": {
        "id": "BfVvO8RtqRgO"
      },
      "source": [
        "# PYTHON 3.8 INSTALLATION"
      ]
    },
    {
      "cell_type": "code",
      "execution_count": null,
      "metadata": {
        "collapsed": true,
        "id": "aiCBarOLjbSk"
      },
      "outputs": [],
      "source": [
        "!apt-get install python3.8 python3.8-distutils python3.8-dev python3-pip -y"
      ]
    },
    {
      "cell_type": "code",
      "execution_count": null,
      "metadata": {
        "id": "kGcrkQGQojFC"
      },
      "outputs": [],
      "source": [
        "!python3.8 --version"
      ]
    },
    {
      "cell_type": "code",
      "execution_count": null,
      "metadata": {
        "id": "xq3GzCzlqDs2"
      },
      "outputs": [],
      "source": [
        "!python3.8 -m pip --version"
      ]
    },
    {
      "cell_type": "code",
      "execution_count": null,
      "metadata": {
        "id": "7VdrJhX8ivwV"
      },
      "outputs": [],
      "source": [
        "!apt-get install -y \\\n",
        "    libgl1-mesa-dev \\\n",
        "    libgl1-mesa-glx \\\n",
        "    libglew-dev \\\n",
        "    libosmesa6-dev \\\n",
        "    software-properties-common\n",
        "\n",
        "!apt-get install -y patchelf\n"
      ]
    },
    {
      "cell_type": "markdown",
      "metadata": {
        "id": "ydblMr8VqPjR"
      },
      "source": [
        "# MUJOCO SETUP"
      ]
    },
    {
      "cell_type": "code",
      "execution_count": null,
      "metadata": {
        "id": "rhRWYq2sizT8"
      },
      "outputs": [],
      "source": [
        "!mkdir ~/.mujoco\n",
        "!wget -q https://mujoco.org/download/mujoco210-linux-x86_64.tar.gz -O mujoco.tar.gz\n",
        "!tar -zxf mujoco.tar.gz -C \"$HOME/.mujoco\"\n",
        "!rm mujoco.tar.gz"
      ]
    },
    {
      "cell_type": "code",
      "execution_count": null,
      "metadata": {
        "id": "B_4CDleT3U5S"
      },
      "outputs": [],
      "source": [
        "!ls \"$HOME/.mujoco\""
      ]
    },
    {
      "cell_type": "code",
      "execution_count": null,
      "metadata": {
        "id": "AsDMFX-n3gbj"
      },
      "outputs": [],
      "source": [
        "%env LD_LIBRARY_PATH=/root/.mujoco/mujoco210/bin:/usr/lib64-nvidia"
      ]
    },
    {
      "cell_type": "markdown",
      "metadata": {
        "id": "FrbVWSBLqiW3"
      },
      "source": [
        "# PROJECT SETUP"
      ]
    },
    {
      "cell_type": "code",
      "execution_count": null,
      "metadata": {
        "id": "BeinMADB4EOv"
      },
      "outputs": [],
      "source": [
        "%cd /content"
      ]
    },
    {
      "cell_type": "code",
      "execution_count": null,
      "metadata": {
        "id": "Cw1IBP4sj1FT"
      },
      "outputs": [],
      "source": [
        "# e.g. !git clone https://github.com/lambdavi/rl_mldl_25.git\n",
        "!git clone YOUR_GITHUB_REPO_URL_HERE"
      ]
    },
    {
      "cell_type": "code",
      "execution_count": null,
      "metadata": {
        "id": "pJXm_mwClkhM"
      },
      "outputs": [],
      "source": [
        "# e.g. %cd rl_mldl_25\n",
        "%cd YOUR_REPO_NAME_HERE\n"
      ]
    },
    {
      "cell_type": "code",
      "execution_count": null,
      "metadata": {},
      "outputs": [],
      "source": [
        "!python3.8 -m pip install torch --index-url https://download.pytorch.org/whl/cu124"
      ]
    },
    {
      "cell_type": "code",
      "execution_count": null,
      "metadata": {
        "id": "JaxPjYwrntNG"
      },
      "outputs": [],
      "source": [
        "!python3.8 -m pip install setuptools==65.5.0 wheel==0.38\n",
        "!python3.8 -m pip install -r requirements.txt"
      ]
    },
    {
      "cell_type": "code",
      "execution_count": null,
      "metadata": {
        "collapsed": true,
        "id": "Emx_jSLsnwFW"
      },
      "outputs": [],
      "source": [
        "!git pull # Remember to pull every time you make local changes\n",
        "!python3.8 test_random_policy.py\n",
        "# If you see this error: mujoco_py.cymj.GlfwError: Failed to initialize GLFW\n",
        "# You need to make sure you are not rendering the environment (check IN THE FILE YOU ARE RUNNING if render=True is present) since\n",
        "# colab doesn't support it (officially)"
      ]
    },
    {
      "cell_type": "code",
      "execution_count": null,
      "metadata": {
        "id": "oSAV7rXcowPG"
      },
      "outputs": [],
      "source": []
    }
  ],
  "metadata": {
    "colab": {
      "collapsed_sections": [
        "ydblMr8VqPjR"
      ],
      "provenance": []
    },
    "kernelspec": {
      "display_name": "Python 3",
      "name": "python3"
    },
    "language_info": {
      "name": "python"
    }
  },
  "nbformat": 4,
  "nbformat_minor": 0
}
